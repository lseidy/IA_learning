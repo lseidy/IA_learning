{
  "nbformat": 4,
  "nbformat_minor": 0,
  "metadata": {
    "colab": {
      "provenance": [],
      "authorship_tag": "ABX9TyM/5D5G3Vh2WG9i1gHln8Gh",
      "include_colab_link": true
    },
    "kernelspec": {
      "name": "python3",
      "display_name": "Python 3"
    },
    "language_info": {
      "name": "python"
    }
  },
  "cells": [
    {
      "cell_type": "markdown",
      "metadata": {
        "id": "view-in-github",
        "colab_type": "text"
      },
      "source": [
        "<a href=\"https://colab.research.google.com/github/lseidy/IA_learning/blob/master/MLP_Funciona.ipynb\" target=\"_parent\"><img src=\"https://colab.research.google.com/assets/colab-badge.svg\" alt=\"Open In Colab\"/></a>"
      ]
    },
    {
      "cell_type": "code",
      "execution_count": null,
      "metadata": {
        "id": "6cX-OQ7ebSn3"
      },
      "outputs": [],
      "source": [
        "import numpy as np\n",
        "import matplotlib.pyplot as plt\n",
        "from sklearn.model_selection import train_test_split\n",
        "from sklearn.preprocessing import StandardScaler\n",
        "from sklearn.metrics import accuracy_score, confusion_matrix, classification_report\n",
        "import seaborn as sns"
      ]
    },
    {
      "cell_type": "code",
      "source": [
        "from sklearn.datasets import load_digits"
      ],
      "metadata": {
        "id": "EdFyZpm1beVT"
      },
      "execution_count": null,
      "outputs": []
    },
    {
      "cell_type": "markdown",
      "source": [
        "### Pre Processamento"
      ],
      "metadata": {
        "id": "xuEHwnK6bpLE"
      }
    },
    {
      "cell_type": "code",
      "source": [
        "np.random.seed(42)\n",
        "digits = load_digits()\n",
        "X_data, y_data = digits.data, digits.target\n",
        "\n",
        "X_train, X_test, y_train, y_test = train_test_split(X_data, y_data, test_size=0.25, random_state=42)"
      ],
      "metadata": {
        "id": "wDxBetu3bgIV"
      },
      "execution_count": null,
      "outputs": []
    },
    {
      "cell_type": "code",
      "source": [
        "plt.figure(figsize=(10, 4))\n",
        "\n",
        "colors = np.array([[1, 0, 0],   # Red\n",
        "                   [0, 1, 0],   # Green\n",
        "                   [0, 0, 1],   # Blue\n",
        "                   [1, 1, 0]])  # Yellow\n",
        "for i in range(10):\n",
        "    plt.subplot(2, 5, i + 1)\n",
        "    plt.imshow(X_data[i].reshape(8, 8), cmap= plt.matplotlib.colors.ListedColormap(colors))\n",
        "    plt.title(f'Numero: {y_data[i]}')\n",
        "plt.show()"
      ],
      "metadata": {
        "id": "s2aPuq9NcK0U",
        "outputId": "37bf614b-766d-4059-bbc6-8a43406a9c47",
        "colab": {
          "base_uri": "https://localhost:8080/",
          "height": 381
        }
      },
      "execution_count": null,
      "outputs": [
        {
          "output_type": "display_data",
          "data": {
            "text/plain": [
              "<Figure size 1000x400 with 10 Axes>"
            ],
            "image/png": "[encoded data removed]"
          },
          "metadata": {}
        }
      ]
    },
    {
      "cell_type": "code",
      "source": [
        "digits.DESCR"
      ],
      "metadata": {
        "colab": {
          "base_uri": "https://localhost:8080/",
          "height": 192
        },
        "id": "ZvqrysDsvbfa",
        "outputId": "8ae6dead-0264-4805-ec31-d406d8b1907b"
      },
      "execution_count": null,
      "outputs": [
        {
          "output_type": "execute_result",
          "data": {
            "text/plain": [
              "\".. _digits_dataset:\\n\\nOptical recognition of handwritten digits dataset\\n--------------------------------------------------\\n\\n**Data Set Characteristics:**\\n\\n    :Number of Instances: 1797\\n    :Number of Attributes: 64\\n    :Attribute Information: 8x8 image of integer pixels in the range 0..16.\\n    :Missing Attribute Values: None\\n    :Creator: E. Alpaydin (alpaydin '@' boun.edu.tr)\\n    :Date: July; 1998\\n\\nThis is a copy of the test set of the UCI ML hand-written digits datasets\\nhttps://archive.ics.uci.edu/ml/datasets/Optical+Recognition+of+Handwritten+Digits\\n\\nThe data set contains images of hand-written digits: 10 classes where\\neach class refers to a digit.\\n\\nPreprocessing programs made available by NIST were used to extract\\nnormalized bitmaps of handwritten digits from a preprinted form. From a\\ntotal of 43 people, 30 contributed to the training set and different 13\\nto the test set. 32x32 bitmaps are divided into nonoverlapping blocks of\\n4x4 and the number of on pixels are counted in each block. This generates\\nan input matrix of 8x8 where each element is an integer in the range\\n0..16. This reduces dimensionality and gives invariance to small\\ndistortions.\\n\\nFor info on NIST preprocessing routines, see M. D. Garris, J. L. Blue, G.\\nT. Candela, D. L. Dimmick, J. Geist, P. J. Grother, S. A. Janet, and C.\\nL. Wilson, NIST Form-Based Handprint Recognition System, NISTIR 5469,\\n1994.\\n\\n.. topic:: References\\n\\n  - C. Kaynak (1995) Methods of Combining Multiple Classifiers and Their\\n    Applications to Handwritten Digit Recognition, MSc Thesis, Institute of\\n    Graduate Studies in Science and Engineering, Bogazici University.\\n  - E. Alpaydin, C. Kaynak (1998) Cascading Classifiers, Kybernetika.\\n  - Ken Tang and Ponnuthurai N. Suganthan and Xi Yao and A. Kai Qin.\\n    Linear dimensionalityreduction using relevance weighted LDA. School of\\n    Electrical and Electronic Engineering Nanyang Technological University.\\n    2005.\\n  - Claudio Gentile. A New Approximate Maximal Margin Classification\\n    Algorithm. NIPS. 2000.\\n\""
            ],
            "application/vnd.google.colaboratory.intrinsic+json": {
              "type": "string"
            }
          },
          "metadata": {},
          "execution_count": 193
        }
      ]
    },
    {
      "cell_type": "code",
      "source": [
        "digits.data"
      ],
      "metadata": {
        "colab": {
          "base_uri": "https://localhost:8080/"
        },
        "id": "8L8YEsF9wqbj",
        "outputId": "634c769e-1474-4d8c-9c91-9e42962c83e0"
      },
      "execution_count": null,
      "outputs": [
        {
          "output_type": "execute_result",
          "data": {
            "text/plain": [
              "array([[ 0.,  0.,  5., ...,  0.,  0.,  0.],\n",
              "       [ 0.,  0.,  0., ..., 10.,  0.,  0.],\n",
              "       [ 0.,  0.,  0., ..., 16.,  9.,  0.],\n",
              "       ...,\n",
              "       [ 0.,  0.,  1., ...,  6.,  0.,  0.],\n",
              "       [ 0.,  0.,  2., ..., 12.,  0.,  0.],\n",
              "       [ 0.,  0., 10., ..., 12.,  1.,  0.]])"
            ]
          },
          "metadata": {},
          "execution_count": 194
        }
      ]
    },
    {
      "cell_type": "code",
      "source": [
        "digits.target, digits.data"
      ],
      "metadata": {
        "colab": {
          "base_uri": "https://localhost:8080/"
        },
        "id": "MGD0p3xlb5Ua",
        "outputId": "f7dbf3db-4e9e-42d1-a84d-c57b0bdded99"
      },
      "execution_count": null,
      "outputs": [
        {
          "output_type": "execute_result",
          "data": {
            "text/plain": [
              "(array([0, 1, 2, ..., 8, 9, 8]),\n",
              " array([[ 0.,  0.,  5., ...,  0.,  0.,  0.],\n",
              "        [ 0.,  0.,  0., ..., 10.,  0.,  0.],\n",
              "        [ 0.,  0.,  0., ..., 16.,  9.,  0.],\n",
              "        ...,\n",
              "        [ 0.,  0.,  1., ...,  6.,  0.,  0.],\n",
              "        [ 0.,  0.,  2., ..., 12.,  0.,  0.],\n",
              "        [ 0.,  0., 10., ..., 12.,  1.,  0.]]))"
            ]
          },
          "metadata": {},
          "execution_count": 195
        }
      ]
    },
    {
      "cell_type": "markdown",
      "source": [
        "### Definicao MLP"
      ],
      "metadata": {
        "id": "IAK0TdYSici6"
      }
    },
    {
      "cell_type": "code",
      "source": [
        "class MLP:\n",
        "    def __init__(self, inputs, hidden_layers, output, learning_rate=0.01, epochs=100, activation = \"relu\"):\n",
        "\n",
        "      self.inputs = inputs\n",
        "      self.output = output\n",
        "      self.hidden_layers = hidden_layers\n",
        "      self.learning_rate = learning_rate\n",
        "      self.epochs = epochs\n",
        "\n",
        "      if activation == 'relu' or activation == 'sigmoid':\n",
        "        self.init_weights_bias()\n",
        "        self.activation = activation\n",
        "        pass\n",
        "      else:\n",
        "        return print(\"nenhuma funcao de ativacao selecionada\")\n",
        "\n",
        "    def init_weights_bias(self):\n",
        "      #inicizalicao de pesos\n",
        "      self.in_w = np.random.randn(self.inputs, self.hidden_layers)\n",
        "      self.bias = np.zeros((1, self.hidden_layers))\n",
        "\n",
        "      #ultima camada\n",
        "      self.w_out = np.random.randn(self.hidden_layers, self.output)\n",
        "      self.bias_out = np.zeros((1, self.output))\n",
        "\n",
        "    def sigmoid(self, value):\n",
        "      return 1 / (1 + np.exp(-value))\n",
        "    def sigmoid_derivative(self, value):\n",
        "      return value * (1 - value)\n",
        "\n",
        "    def relu(self, value):\n",
        "      return np.maximum(0, value)\n",
        "    def relu_derivative(self,value):\n",
        "      return np.where(value > 0, 1, 0)\n",
        "\n",
        "    def activation_func(self,value):\n",
        "      if self.activation == 'relu':\n",
        "        return self.relu(value)\n",
        "      else:\n",
        "        return self.sigmoid(value)\n",
        "    def activation_func_derivative(self,value):\n",
        "      if self.activation == 'relu':\n",
        "        return self.relu_derivative(value)\n",
        "      else:\n",
        "        return self.sigmoid_derivative(value)\n",
        "\n",
        "    def forward(self, input_neuron):\n",
        "      self.in_layer = np.dot(input_neuron, self.in_w) + self.bias\n",
        "      self.out_hidden = self.activation_func(self.in_layer)\n",
        "      self.out_layer = np.dot(self.out_hidden, self.w_out) + self.bias_out\n",
        "\n",
        "      self.predicted = self.activation_func(self.out_layer)\n",
        "\n",
        "    def backpropagation(self, input, target):\n",
        "\n",
        "      self.loss = target - self.predicted\n",
        "\n",
        "\n",
        "      data_out = self.loss * self.activation_func_derivative(self.predicted)\n",
        "      hidden_loss = data_out.dot(self.w_out.T)\n",
        "      hidden_layer_out = hidden_loss * self.activation_func_derivative(self.out_hidden)\n",
        "\n",
        "\n",
        "      self.w_out += self.out_hidden.T.dot(data_out) * self.learning_rate\n",
        "      self.bias_out += np.sum(data_out, axis=0, keepdims=True) * self.learning_rate\n",
        "      self.in_w += input.T.dot(hidden_layer_out) * self.learning_rate\n",
        "      self.bias += np.sum(hidden_layer_out, axis=0, keepdims=True) * self.learning_rate\n",
        "\n",
        "    def fit(self, input, target, epochs):\n",
        "      for epoch in range(epochs):\n",
        "        self.forward(input)\n",
        "        self.backpropagation(input, target)\n",
        "\n",
        "    def predict(self, input):\n",
        "      self.forward(input)\n",
        "      return np.argmax(self.predicted, axis=1)"
      ],
      "metadata": {
        "id": "-CAevnEmb-DY"
      },
      "execution_count": null,
      "outputs": []
    },
    {
      "cell_type": "code",
      "source": [
        "scaler = StandardScaler()\n",
        "X_train = scaler.fit_transform(X_train)\n",
        "X_test = scaler.transform(X_test)"
      ],
      "metadata": {
        "id": "14nKYDUeiZ73"
      },
      "execution_count": null,
      "outputs": []
    },
    {
      "cell_type": "code",
      "source": [
        "n_classes = 10\n",
        "y_train_encoded = np.zeros((len(y_train), n_classes))\n",
        "for i in range(len(y_train)):\n",
        "  y_train_encoded[i, y_train[i]] = 1\n",
        "\n",
        "print(y_train_encoded)"
      ],
      "metadata": {
        "colab": {
          "base_uri": "https://localhost:8080/"
        },
        "id": "X84EJcX5loE1",
        "outputId": "0c596ef6-4aae-4996-dff8-e81dafaffbc3"
      },
      "execution_count": null,
      "outputs": [
        {
          "output_type": "stream",
          "name": "stdout",
          "text": [
            "[[0. 0. 0. ... 0. 0. 0.]\n",
            " [0. 0. 1. ... 0. 0. 0.]\n",
            " [1. 0. 0. ... 0. 0. 0.]\n",
            " ...\n",
            " [0. 0. 1. ... 0. 0. 0.]\n",
            " [0. 0. 0. ... 1. 0. 0.]\n",
            " [0. 1. 0. ... 0. 0. 0.]]\n"
          ]
        }
      ]
    },
    {
      "cell_type": "code",
      "source": [
        "X_test.shape"
      ],
      "metadata": {
        "colab": {
          "base_uri": "https://localhost:8080/"
        },
        "id": "xhZn4VlSsSZv",
        "outputId": "b1a1c1be-cb15-4581-bc60-b14b3a248978"
      },
      "execution_count": null,
      "outputs": [
        {
          "output_type": "execute_result",
          "data": {
            "text/plain": [
              "(450, 64)"
            ]
          },
          "metadata": {},
          "execution_count": 199
        }
      ]
    },
    {
      "cell_type": "code",
      "source": [
        "model = MLP(X_train.shape[1], 256, n_classes, 0.01, activation = \"relu\")\n",
        "model.fit(X_train, y_train_encoded, 1000)\n"
      ],
      "metadata": {
        "id": "s228yrhzyhXL"
      },
      "execution_count": null,
      "outputs": []
    },
    {
      "cell_type": "code",
      "source": [
        "y_pred = model.predict(X_test)\n",
        "print(f'Accuracy: {accuracy_score(y_test, y_pred)*100:.2f}%')"
      ],
      "metadata": {
        "colab": {
          "base_uri": "https://localhost:8080/"
        },
        "id": "hOZGEzSjylK7",
        "outputId": "d8ce7746-464c-459d-cb08-21f082d54e0a"
      },
      "execution_count": null,
      "outputs": [
        {
          "output_type": "stream",
          "name": "stdout",
          "text": [
            "Accuracy: 9.56%\n"
          ]
        }
      ]
    },
    {
      "cell_type": "code",
      "source": [
        "model2 = MLP(X_train.shape[1], 32, n_classes, 0.01, activation = \"sigmoid\")\n",
        "model2.fit(X_train, y_train_encoded, 1000)\n",
        "\n",
        "y_pred = model2.predict(X_test)\n",
        "\n",
        "print(f'Accuracy: {accuracy_score(y_test, y_pred)*100:.2f}%')"
      ],
      "metadata": {
        "colab": {
          "base_uri": "https://localhost:8080/"
        },
        "id": "uzIDSG5Lh39p",
        "outputId": "4257b06a-14af-4804-c507-3f734a15f7f4"
      },
      "execution_count": null,
      "outputs": [
        {
          "output_type": "stream",
          "name": "stdout",
          "text": [
            "Accuracy: 96.22%\n"
          ]
        }
      ]
    },
    {
      "cell_type": "code",
      "source": [
        "print(classification_report(y_test, y_pred))"
      ],
      "metadata": {
        "colab": {
          "base_uri": "https://localhost:8080/"
        },
        "id": "zQsW5tYMrrwj",
        "outputId": "29f6a17f-6a4a-4009-cdc1-737a4144658f"
      },
      "execution_count": null,
      "outputs": [
        {
          "output_type": "stream",
          "name": "stdout",
          "text": [
            "              precision    recall  f1-score   support\n",
            "\n",
            "           0       1.00      0.98      0.99        43\n",
            "           1       1.00      0.81      0.90        37\n",
            "           2       0.84      0.97      0.90        38\n",
            "           3       0.98      0.96      0.97        46\n",
            "           4       1.00      1.00      1.00        55\n",
            "           5       0.97      0.98      0.97        59\n",
            "           6       0.94      0.98      0.96        45\n",
            "           7       0.98      0.98      0.98        41\n",
            "           8       0.97      0.95      0.96        38\n",
            "           9       0.94      0.96      0.95        48\n",
            "\n",
            "    accuracy                           0.96       450\n",
            "   macro avg       0.96      0.96      0.96       450\n",
            "weighted avg       0.96      0.96      0.96       450\n",
            "\n"
          ]
        }
      ]
    },
    {
      "cell_type": "code",
      "source": [
        "confusion = confusion_matrix(y_test, y_pred)\n",
        "\n",
        "# Plotar a matriz de confusão usando Seaborn\n",
        "plt.figure(figsize=(6, 6))\n",
        "sns.heatmap(confusion, annot=True, fmt=\"d\", cmap=\"Blues\", cbar=False, square=True, xticklabels=[\"Classe 0\", \"Classe 1\", \"CLasse 2\", \"CLasse 3\", \"CLasse 4\", \"CLasse 5\", \"CLasse 6\", \"CLasse 7\", \"CLasse 8\", \"CLasse 9\"], yticklabels=[\"Classe 0\", \"Classe 1\", \"CLasse 2\", \"CLasse 3\", \"CLasse 4\", \"CLasse 5\", \"CLasse 6\", \"CLasse 7\", \"CLasse 8\", \"CLasse 9\"])\n",
        "plt.xlabel('Previsto')\n",
        "plt.ylabel('Real')\n",
        "plt.show()"
      ],
      "metadata": {
        "colab": {
          "base_uri": "https://localhost:8080/",
          "height": 590
        },
        "id": "rYselrzYrXKm",
        "outputId": "1589bb15-7069-4294-c9d8-11694bae5db4"
      },
      "execution_count": null,
      "outputs": [
        {
          "output_type": "display_data",
          "data": {
            "text/plain": [
              "<Figure size 600x600 with 1 Axes>"
            ],
            "image/png": "[encoded data removed]"
          },
          "metadata": {}
        }
      ]
    }
  ]
}